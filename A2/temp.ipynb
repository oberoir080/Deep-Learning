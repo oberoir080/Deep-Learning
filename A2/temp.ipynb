{
 "cells": [
  {
   "cell_type": "code",
   "execution_count": 1,
   "metadata": {},
   "outputs": [
    {
     "name": "stdout",
     "output_type": "stream",
     "text": [
      "Collecting openml\n",
      "  Downloading openml-0.15.1-py3-none-any.whl (160 kB)\n",
      "                                              0.0/160.4 kB ? eta -:--:--\n",
      "     -----------------------------          122.9/160.4 kB 3.5 MB/s eta 0:00:01\n",
      "     -------------------------------------- 160.4/160.4 kB 3.2 MB/s eta 0:00:00\n",
      "Collecting liac-arff>=2.4.0 (from openml)\n",
      "  Downloading liac-arff-2.5.0.tar.gz (13 kB)\n",
      "  Preparing metadata (setup.py): started\n",
      "  Preparing metadata (setup.py): finished with status 'done'\n",
      "Requirement already satisfied: xmltodict in c:\\python311\\lib\\site-packages (from openml) (0.14.2)\n",
      "Requirement already satisfied: requests in c:\\python311\\lib\\site-packages (from openml) (2.31.0)\n",
      "Requirement already satisfied: scikit-learn>=0.18 in c:\\python311\\lib\\site-packages (from openml) (1.3.2)\n",
      "Requirement already satisfied: python-dateutil in c:\\python311\\lib\\site-packages (from openml) (2.8.2)\n",
      "Requirement already satisfied: pandas>=1.0.0 in c:\\python311\\lib\\site-packages (from openml) (2.2.3)\n",
      "Requirement already satisfied: scipy>=0.13.3 in c:\\python311\\lib\\site-packages (from openml) (1.11.3)\n",
      "Requirement already satisfied: numpy>=1.6.2 in c:\\python311\\lib\\site-packages (from openml) (1.25.2)\n",
      "Collecting minio (from openml)\n",
      "  Downloading minio-7.2.15-py3-none-any.whl (95 kB)\n",
      "                                              0.0/95.1 kB ? eta -:--:--\n",
      "     ---------------------------------------- 95.1/95.1 kB 2.7 MB/s eta 0:00:00\n",
      "Requirement already satisfied: pyarrow in c:\\python311\\lib\\site-packages (from openml) (12.0.1)\n",
      "Requirement already satisfied: tqdm in c:\\python311\\lib\\site-packages (from openml) (4.65.0)\n",
      "Requirement already satisfied: packaging in c:\\python311\\lib\\site-packages (from openml) (23.1)\n",
      "Requirement already satisfied: pytz>=2020.1 in c:\\python311\\lib\\site-packages (from pandas>=1.0.0->openml) (2023.3)\n",
      "Requirement already satisfied: tzdata>=2022.7 in c:\\python311\\lib\\site-packages (from pandas>=1.0.0->openml) (2023.3)\n",
      "Requirement already satisfied: six>=1.5 in c:\\python311\\lib\\site-packages (from python-dateutil->openml) (1.16.0)\n",
      "Requirement already satisfied: joblib>=1.1.1 in c:\\python311\\lib\\site-packages (from scikit-learn>=0.18->openml) (1.3.2)\n",
      "Requirement already satisfied: threadpoolctl>=2.0.0 in c:\\python311\\lib\\site-packages (from scikit-learn>=0.18->openml) (3.2.0)\n",
      "Requirement already satisfied: certifi in c:\\python311\\lib\\site-packages (from minio->openml) (2023.5.7)\n",
      "Requirement already satisfied: urllib3 in c:\\python311\\lib\\site-packages (from minio->openml) (2.0.3)\n",
      "Collecting argon2-cffi (from minio->openml)\n",
      "  Downloading argon2_cffi-23.1.0-py3-none-any.whl (15 kB)\n",
      "Collecting pycryptodome (from minio->openml)\n",
      "  Downloading pycryptodome-3.22.0-cp37-abi3-win_amd64.whl (1.8 MB)\n",
      "                                              0.0/1.8 MB ? eta -:--:--\n",
      "     --                                       0.1/1.8 MB 2.6 MB/s eta 0:00:01\n",
      "     -----                                    0.2/1.8 MB 2.8 MB/s eta 0:00:01\n",
      "     --------                                 0.4/1.8 MB 3.1 MB/s eta 0:00:01\n",
      "     ------------                             0.6/1.8 MB 3.2 MB/s eta 0:00:01\n",
      "     ------------------                       0.8/1.8 MB 3.6 MB/s eta 0:00:01\n",
      "     ---------------------                    1.0/1.8 MB 3.8 MB/s eta 0:00:01\n",
      "     -----------------------                  1.1/1.8 MB 3.8 MB/s eta 0:00:01\n",
      "     -----------------------------            1.3/1.8 MB 3.6 MB/s eta 0:00:01\n",
      "     ----------------------------------       1.6/1.8 MB 3.8 MB/s eta 0:00:01\n",
      "     -------------------------------------    1.7/1.8 MB 3.9 MB/s eta 0:00:01\n",
      "     ---------------------------------------- 1.8/1.8 MB 3.8 MB/s eta 0:00:00\n",
      "Requirement already satisfied: typing-extensions in c:\\python311\\lib\\site-packages (from minio->openml) (4.12.2)\n",
      "Requirement already satisfied: charset-normalizer<4,>=2 in c:\\python311\\lib\\site-packages (from requests->openml) (3.1.0)\n",
      "Requirement already satisfied: idna<4,>=2.5 in c:\\python311\\lib\\site-packages (from requests->openml) (3.4)\n",
      "Requirement already satisfied: colorama in c:\\python311\\lib\\site-packages (from tqdm->openml) (0.4.6)\n",
      "Collecting argon2-cffi-bindings (from argon2-cffi->minio->openml)\n",
      "  Using cached argon2_cffi_bindings-21.2.0-cp36-abi3-win_amd64.whl (30 kB)\n",
      "Requirement already satisfied: cffi>=1.0.1 in c:\\python311\\lib\\site-packages (from argon2-cffi-bindings->argon2-cffi->minio->openml) (1.15.1)\n",
      "Requirement already satisfied: pycparser in c:\\python311\\lib\\site-packages (from cffi>=1.0.1->argon2-cffi-bindings->argon2-cffi->minio->openml) (2.21)\n",
      "Building wheels for collected packages: liac-arff\n",
      "  Building wheel for liac-arff (setup.py): started\n",
      "  Building wheel for liac-arff (setup.py): finished with status 'done'\n",
      "  Created wheel for liac-arff: filename=liac_arff-2.5.0-py3-none-any.whl size=11726 sha256=8841c51cbed21cff9fde829d7f5bb51315e07bcf08cad98604297f9bf768be59\n",
      "  Stored in directory: c:\\users\\rahul\\appdata\\local\\pip\\cache\\wheels\\00\\23\\31\\5e562fce1f95aabe57f2a7320d07433ba1cd152bcde2f6a002\n",
      "Successfully built liac-arff\n",
      "Installing collected packages: pycryptodome, liac-arff, argon2-cffi-bindings, argon2-cffi, minio, openml\n"
     ]
    },
    {
     "name": "stderr",
     "output_type": "stream",
     "text": [
      "  WARNING: Failed to write executable - trying to use .deleteme logic\n",
      "ERROR: Could not install packages due to an OSError: [WinError 2] The system cannot find the file specified: 'C:\\\\Python311\\\\Scripts\\\\openml.exe' -> 'C:\\\\Python311\\\\Scripts\\\\openml.exe.deleteme'\n",
      "\n",
      "WARNING: There was an error checking the latest version of pip.\n"
     ]
    }
   ],
   "source": [
    "!pip install openml\n"
   ]
  },
  {
   "cell_type": "code",
   "execution_count": 2,
   "metadata": {},
   "outputs": [
    {
     "data": {
      "text/plain": [
       "True"
      ]
     },
     "execution_count": 2,
     "metadata": {},
     "output_type": "execute_result"
    }
   ],
   "source": [
    "import openml\n",
    "openml.config.apikey = 'fc0860b3b65cd2e67916ccdcbf0a51f9'\n",
    "dataset_id = 46771  # Replace with your dataset's ID\n",
    "openml.datasets.delete_dataset(dataset_id)\n"
   ]
  }
 ],
 "metadata": {
  "kernelspec": {
   "display_name": "Python 3",
   "language": "python",
   "name": "python3"
  },
  "language_info": {
   "codemirror_mode": {
    "name": "ipython",
    "version": 3
   },
   "file_extension": ".py",
   "mimetype": "text/x-python",
   "name": "python",
   "nbconvert_exporter": "python",
   "pygments_lexer": "ipython3",
   "version": "3.11.4"
  }
 },
 "nbformat": 4,
 "nbformat_minor": 2
}
